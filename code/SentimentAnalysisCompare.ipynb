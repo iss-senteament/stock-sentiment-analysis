{
 "cells": [
  {
   "cell_type": "markdown",
   "id": "f216dd76-7d33-44ae-bacd-16678c340289",
   "metadata": {},
   "source": [
    "imports"
   ]
  },
  {
   "cell_type": "code",
   "execution_count": null,
   "id": "368d8e6a",
   "metadata": {},
   "outputs": [],
   "source": [
    "!pip install wheel\n",
    "!pip install pandas\n",
    "!python yahoo_api.py"
   ]
  },
  {
   "cell_type": "code",
   "execution_count": 2,
   "id": "f48f1300-7759-415c-92e2-a0bd57e50102",
   "metadata": {},
   "outputs": [
    {
     "name": "stderr",
     "output_type": "stream",
     "text": [
      "/Users/laikahhoe/anaconda3/lib/python3.11/site-packages/transformers/utils/generic.py:260: UserWarning: torch.utils._pytree._register_pytree_node is deprecated. Please use torch.utils._pytree.register_pytree_node instead.\n",
      "  torch.utils._pytree._register_pytree_node(\n"
     ]
    }
   ],
   "source": [
    "from yahoo_api import API\n",
    "import nltk\n",
    "import nltk.sentiment.util\n",
    "import pandas as pd\n",
    "from nltk.sentiment.vader import SentimentIntensityAnalyzer\n",
    "from transformers import pipeline"
   ]
  },
  {
   "cell_type": "markdown",
   "id": "e480e8ee-c6c8-44ad-977a-a034f92926d2",
   "metadata": {},
   "source": [
    "set ticker value"
   ]
  },
  {
   "cell_type": "code",
   "execution_count": 3,
   "id": "dfab149d-a190-425f-8f69-d68c6b92ccb2",
   "metadata": {},
   "outputs": [],
   "source": [
    "ticker = 'amzn'"
   ]
  },
  {
   "cell_type": "markdown",
   "id": "6d43632a-d63a-441f-a189-1d305183131f",
   "metadata": {},
   "source": [
    "Get news pandas dataframe from Yahoo API"
   ]
  },
  {
   "cell_type": "code",
   "execution_count": 4,
   "id": "c2a5409c-f4bf-4273-9ffb-5ab166fb5088",
   "metadata": {},
   "outputs": [
    {
     "data": {
      "text/html": [
       "<div>\n",
       "<style scoped>\n",
       "    .dataframe tbody tr th:only-of-type {\n",
       "        vertical-align: middle;\n",
       "    }\n",
       "\n",
       "    .dataframe tbody tr th {\n",
       "        vertical-align: top;\n",
       "    }\n",
       "\n",
       "    .dataframe thead th {\n",
       "        text-align: right;\n",
       "    }\n",
       "</style>\n",
       "<table border=\"1\" class=\"dataframe\">\n",
       "  <thead>\n",
       "    <tr style=\"text-align: right;\">\n",
       "      <th></th>\n",
       "      <th>Date Time</th>\n",
       "      <th>title</th>\n",
       "      <th>Description</th>\n",
       "    </tr>\n",
       "  </thead>\n",
       "  <tbody>\n",
       "  </tbody>\n",
       "</table>\n",
       "</div>"
      ],
      "text/plain": [
       "Empty DataFrame\n",
       "Columns: [Date Time, title, Description]\n",
       "Index: []"
      ]
     },
     "execution_count": 4,
     "metadata": {},
     "output_type": "execute_result"
    }
   ],
   "source": [
    "api = API()\n",
    "df = api.get_news(ticker)\n",
    "#df.drop(columns = ['Headline + Link'], inplace=True)\n",
    "df.drop(columns = ['title + link'], inplace=True)\n",
    "\n",
    "df"
   ]
  },
  {
   "cell_type": "markdown",
   "id": "d4f19909-6841-435c-923c-33c4c26c267f",
   "metadata": {},
   "source": [
    "download the latest Finbert ML algorithm"
   ]
  },
  {
   "cell_type": "code",
   "execution_count": null,
   "id": "ec9ebac0-f2e3-4b6e-bbf6-ac7b5c289aef",
   "metadata": {},
   "outputs": [
    {
     "name": "stderr",
     "output_type": "stream",
     "text": [
      "/Users/laikahhoe/anaconda3/lib/python3.11/site-packages/transformers/utils/generic.py:260: UserWarning: torch.utils._pytree._register_pytree_node is deprecated. Please use torch.utils._pytree.register_pytree_node instead.\n",
      "  torch.utils._pytree._register_pytree_node(\n"
     ]
    }
   ],
   "source": [
    "_sentiment_analysis = pipeline(\"sentiment-analysis\",model=\"ProsusAI/finbert\")"
   ]
  },
  {
   "cell_type": "markdown",
   "id": "3410897e-adba-4cee-8ee9-a2fc99138f09",
   "metadata": {},
   "source": [
    "Perform sentiment analysis using Finbert ML"
   ]
  },
  {
   "cell_type": "code",
   "execution_count": null,
   "id": "477de8b2-7fc8-47f5-b547-3ff61d70953e",
   "metadata": {},
   "outputs": [],
   "source": [
    "df['finbert_sentiment'] = df['Headline'].apply(_sentiment_analysis)"
   ]
  },
  {
   "cell_type": "markdown",
   "id": "f511b45b-a45d-403f-8652-0fc8aab794b5",
   "metadata": {},
   "source": [
    "Calculate a float score value"
   ]
  },
  {
   "cell_type": "code",
   "execution_count": null,
   "id": "34a071e1-c364-4106-9512-62d2daa656e3",
   "metadata": {},
   "outputs": [],
   "source": [
    "df['finbert_sentiment_score'] = df['finbert_sentiment'].apply(lambda x: {x[0]['label']=='negative': -1, x[0]['label']=='positive': 1}.get(True, 0) * x[0]['score'])\n",
    "df"
   ]
  },
  {
   "cell_type": "markdown",
   "id": "b0a58741-154e-473d-81e3-0b03c6b07407",
   "metadata": {},
   "source": [
    "download the latest Vader ML algorithm"
   ]
  },
  {
   "cell_type": "code",
   "execution_count": null,
   "id": "2c818770-8793-4948-b163-abd45b9bd848",
   "metadata": {},
   "outputs": [],
   "source": [
    "nltk.downloader.download('vader_lexicon')"
   ]
  },
  {
   "cell_type": "markdown",
   "id": "925c2077-c4a1-4d53-8425-876048117f0b",
   "metadata": {},
   "source": [
    "Perform sentiment analysis using Vader ML"
   ]
  },
  {
   "cell_type": "code",
   "execution_count": null,
   "id": "04d0c2d9-bf2f-4d38-a8b2-748971327b97",
   "metadata": {},
   "outputs": [],
   "source": [
    "vader = SentimentIntensityAnalyzer()\n",
    "# self._df['Headline'].apply(vader.polarity_scores)\n",
    "df ['vader_sentiment'] = df['Headline'].apply(vader.polarity_scores)"
   ]
  },
  {
   "cell_type": "markdown",
   "id": "ba5601e4-94ea-4700-8a3a-7ef7bb315807",
   "metadata": {},
   "source": [
    "Calculate a float score value"
   ]
  },
  {
   "cell_type": "code",
   "execution_count": null,
   "id": "d79b04a4-30b1-4231-a731-b4d6d493c540",
   "metadata": {},
   "outputs": [],
   "source": [
    "df['vader_sentiment_score'] = df['vader_sentiment'].apply(lambda x: x['compound'])"
   ]
  },
  {
   "cell_type": "markdown",
   "id": "dce05bcc-f5e3-40bf-9ec1-44776c2a7235",
   "metadata": {},
   "source": [
    "Compare results"
   ]
  },
  {
   "cell_type": "code",
   "execution_count": null,
   "id": "ca033259-cfb3-4537-98cd-f424ca3e9a1a",
   "metadata": {},
   "outputs": [],
   "source": [
    "df"
   ]
  },
  {
   "cell_type": "code",
   "execution_count": null,
   "id": "d0a6a8b1-b7b3-48c1-b6e9-5c885b63ba12",
   "metadata": {},
   "outputs": [],
   "source": []
  }
 ],
 "metadata": {
  "kernelspec": {
   "display_name": "Python 3 (ipykernel)",
   "language": "python",
   "name": "python3"
  },
  "language_info": {
   "codemirror_mode": {
    "name": "ipython",
    "version": 3
   },
   "file_extension": ".py",
   "mimetype": "text/x-python",
   "name": "python",
   "nbconvert_exporter": "python",
   "pygments_lexer": "ipython3",
   "version": "3.11.5"
  },
  "vscode": {
   "interpreter": {
    "hash": "64165854f9cb0fc123cceeb8dae298203ba6c7736a866f7ad272473910cb5ed3"
   }
  }
 },
 "nbformat": 4,
 "nbformat_minor": 5
}
