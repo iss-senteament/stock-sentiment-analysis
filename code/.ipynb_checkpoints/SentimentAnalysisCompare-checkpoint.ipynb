{
 "cells": [
  {
   "cell_type": "markdown",
   "id": "f216dd76-7d33-44ae-bacd-16678c340289",
   "metadata": {},
   "source": [
    "imports"
   ]
  },
  {
   "cell_type": "code",
   "execution_count": null,
   "id": "368d8e6a",
   "metadata": {},
   "outputs": [],
   "source": [
    "!pip install wheel\n",
    "!pip install pandas\n",
    "!python yahoo_api.py"
   ]
  },
  {
   "cell_type": "code",
   "execution_count": 1,
   "id": "f48f1300-7759-415c-92e2-a0bd57e50102",
   "metadata": {},
   "outputs": [
    {
     "name": "stderr",
     "output_type": "stream",
     "text": [
      "/Users/laikahhoe/anaconda3/lib/python3.11/site-packages/transformers/utils/generic.py:260: UserWarning: torch.utils._pytree._register_pytree_node is deprecated. Please use torch.utils._pytree.register_pytree_node instead.\n",
      "  torch.utils._pytree._register_pytree_node(\n"
     ]
    }
   ],
   "source": [
    "from yahoo_api import API\n",
    "import nltk\n",
    "import nltk.sentiment.util\n",
    "import pandas as pd\n",
    "from nltk.sentiment.vader import SentimentIntensityAnalyzer\n",
    "from transformers import pipeline"
   ]
  },
  {
   "cell_type": "markdown",
   "id": "e480e8ee-c6c8-44ad-977a-a034f92926d2",
   "metadata": {},
   "source": [
    "set ticker value"
   ]
  },
  {
   "cell_type": "code",
   "execution_count": 2,
   "id": "dfab149d-a190-425f-8f69-d68c6b92ccb2",
   "metadata": {},
   "outputs": [],
   "source": [
    "ticker = 'amzn'"
   ]
  },
  {
   "cell_type": "markdown",
   "id": "6d43632a-d63a-441f-a189-1d305183131f",
   "metadata": {},
   "source": [
    "Get news pandas dataframe from Yahoo API"
   ]
  },
  {
   "cell_type": "code",
   "execution_count": 4,
   "id": "c2a5409c-f4bf-4273-9ffb-5ab166fb5088",
   "metadata": {},
   "outputs": [
    {
     "ename": "KeyError",
     "evalue": "\"['title + Link'] not found in axis\"",
     "output_type": "error",
     "traceback": [
      "\u001b[0;31m---------------------------------------------------------------------------\u001b[0m",
      "\u001b[0;31mKeyError\u001b[0m                                  Traceback (most recent call last)",
      "Cell \u001b[0;32mIn[4], line 4\u001b[0m\n\u001b[1;32m      2\u001b[0m df \u001b[38;5;241m=\u001b[39m api\u001b[38;5;241m.\u001b[39mget_news(ticker)\n\u001b[1;32m      3\u001b[0m \u001b[38;5;66;03m#df.drop(columns = ['Headline + Link'], inplace=True)\u001b[39;00m\n\u001b[0;32m----> 4\u001b[0m df\u001b[38;5;241m.\u001b[39mdrop(columns \u001b[38;5;241m=\u001b[39m [\u001b[38;5;124m'\u001b[39m\u001b[38;5;124mtitle + Link\u001b[39m\u001b[38;5;124m'\u001b[39m], inplace\u001b[38;5;241m=\u001b[39m\u001b[38;5;28;01mTrue\u001b[39;00m)\n\u001b[1;32m      6\u001b[0m df\n",
      "File \u001b[0;32m~/anaconda3/lib/python3.11/site-packages/pandas/core/frame.py:5258\u001b[0m, in \u001b[0;36mDataFrame.drop\u001b[0;34m(self, labels, axis, index, columns, level, inplace, errors)\u001b[0m\n\u001b[1;32m   5110\u001b[0m \u001b[38;5;28;01mdef\u001b[39;00m \u001b[38;5;21mdrop\u001b[39m(\n\u001b[1;32m   5111\u001b[0m     \u001b[38;5;28mself\u001b[39m,\n\u001b[1;32m   5112\u001b[0m     labels: IndexLabel \u001b[38;5;241m=\u001b[39m \u001b[38;5;28;01mNone\u001b[39;00m,\n\u001b[0;32m   (...)\u001b[0m\n\u001b[1;32m   5119\u001b[0m     errors: IgnoreRaise \u001b[38;5;241m=\u001b[39m \u001b[38;5;124m\"\u001b[39m\u001b[38;5;124mraise\u001b[39m\u001b[38;5;124m\"\u001b[39m,\n\u001b[1;32m   5120\u001b[0m ) \u001b[38;5;241m-\u001b[39m\u001b[38;5;241m>\u001b[39m DataFrame \u001b[38;5;241m|\u001b[39m \u001b[38;5;28;01mNone\u001b[39;00m:\n\u001b[1;32m   5121\u001b[0m \u001b[38;5;250m    \u001b[39m\u001b[38;5;124;03m\"\"\"\u001b[39;00m\n\u001b[1;32m   5122\u001b[0m \u001b[38;5;124;03m    Drop specified labels from rows or columns.\u001b[39;00m\n\u001b[1;32m   5123\u001b[0m \n\u001b[0;32m   (...)\u001b[0m\n\u001b[1;32m   5256\u001b[0m \u001b[38;5;124;03m            weight  1.0     0.8\u001b[39;00m\n\u001b[1;32m   5257\u001b[0m \u001b[38;5;124;03m    \"\"\"\u001b[39;00m\n\u001b[0;32m-> 5258\u001b[0m     \u001b[38;5;28;01mreturn\u001b[39;00m \u001b[38;5;28msuper\u001b[39m()\u001b[38;5;241m.\u001b[39mdrop(\n\u001b[1;32m   5259\u001b[0m         labels\u001b[38;5;241m=\u001b[39mlabels,\n\u001b[1;32m   5260\u001b[0m         axis\u001b[38;5;241m=\u001b[39maxis,\n\u001b[1;32m   5261\u001b[0m         index\u001b[38;5;241m=\u001b[39mindex,\n\u001b[1;32m   5262\u001b[0m         columns\u001b[38;5;241m=\u001b[39mcolumns,\n\u001b[1;32m   5263\u001b[0m         level\u001b[38;5;241m=\u001b[39mlevel,\n\u001b[1;32m   5264\u001b[0m         inplace\u001b[38;5;241m=\u001b[39minplace,\n\u001b[1;32m   5265\u001b[0m         errors\u001b[38;5;241m=\u001b[39merrors,\n\u001b[1;32m   5266\u001b[0m     )\n",
      "File \u001b[0;32m~/anaconda3/lib/python3.11/site-packages/pandas/core/generic.py:4549\u001b[0m, in \u001b[0;36mNDFrame.drop\u001b[0;34m(self, labels, axis, index, columns, level, inplace, errors)\u001b[0m\n\u001b[1;32m   4547\u001b[0m \u001b[38;5;28;01mfor\u001b[39;00m axis, labels \u001b[38;5;129;01min\u001b[39;00m axes\u001b[38;5;241m.\u001b[39mitems():\n\u001b[1;32m   4548\u001b[0m     \u001b[38;5;28;01mif\u001b[39;00m labels \u001b[38;5;129;01mis\u001b[39;00m \u001b[38;5;129;01mnot\u001b[39;00m \u001b[38;5;28;01mNone\u001b[39;00m:\n\u001b[0;32m-> 4549\u001b[0m         obj \u001b[38;5;241m=\u001b[39m obj\u001b[38;5;241m.\u001b[39m_drop_axis(labels, axis, level\u001b[38;5;241m=\u001b[39mlevel, errors\u001b[38;5;241m=\u001b[39merrors)\n\u001b[1;32m   4551\u001b[0m \u001b[38;5;28;01mif\u001b[39;00m inplace:\n\u001b[1;32m   4552\u001b[0m     \u001b[38;5;28mself\u001b[39m\u001b[38;5;241m.\u001b[39m_update_inplace(obj)\n",
      "File \u001b[0;32m~/anaconda3/lib/python3.11/site-packages/pandas/core/generic.py:4591\u001b[0m, in \u001b[0;36mNDFrame._drop_axis\u001b[0;34m(self, labels, axis, level, errors, only_slice)\u001b[0m\n\u001b[1;32m   4589\u001b[0m         new_axis \u001b[38;5;241m=\u001b[39m axis\u001b[38;5;241m.\u001b[39mdrop(labels, level\u001b[38;5;241m=\u001b[39mlevel, errors\u001b[38;5;241m=\u001b[39merrors)\n\u001b[1;32m   4590\u001b[0m     \u001b[38;5;28;01melse\u001b[39;00m:\n\u001b[0;32m-> 4591\u001b[0m         new_axis \u001b[38;5;241m=\u001b[39m axis\u001b[38;5;241m.\u001b[39mdrop(labels, errors\u001b[38;5;241m=\u001b[39merrors)\n\u001b[1;32m   4592\u001b[0m     indexer \u001b[38;5;241m=\u001b[39m axis\u001b[38;5;241m.\u001b[39mget_indexer(new_axis)\n\u001b[1;32m   4594\u001b[0m \u001b[38;5;66;03m# Case for non-unique axis\u001b[39;00m\n\u001b[1;32m   4595\u001b[0m \u001b[38;5;28;01melse\u001b[39;00m:\n",
      "File \u001b[0;32m~/anaconda3/lib/python3.11/site-packages/pandas/core/indexes/base.py:6699\u001b[0m, in \u001b[0;36mIndex.drop\u001b[0;34m(self, labels, errors)\u001b[0m\n\u001b[1;32m   6697\u001b[0m \u001b[38;5;28;01mif\u001b[39;00m mask\u001b[38;5;241m.\u001b[39many():\n\u001b[1;32m   6698\u001b[0m     \u001b[38;5;28;01mif\u001b[39;00m errors \u001b[38;5;241m!=\u001b[39m \u001b[38;5;124m\"\u001b[39m\u001b[38;5;124mignore\u001b[39m\u001b[38;5;124m\"\u001b[39m:\n\u001b[0;32m-> 6699\u001b[0m         \u001b[38;5;28;01mraise\u001b[39;00m \u001b[38;5;167;01mKeyError\u001b[39;00m(\u001b[38;5;124mf\u001b[39m\u001b[38;5;124m\"\u001b[39m\u001b[38;5;132;01m{\u001b[39;00m\u001b[38;5;28mlist\u001b[39m(labels[mask])\u001b[38;5;132;01m}\u001b[39;00m\u001b[38;5;124m not found in axis\u001b[39m\u001b[38;5;124m\"\u001b[39m)\n\u001b[1;32m   6700\u001b[0m     indexer \u001b[38;5;241m=\u001b[39m indexer[\u001b[38;5;241m~\u001b[39mmask]\n\u001b[1;32m   6701\u001b[0m \u001b[38;5;28;01mreturn\u001b[39;00m \u001b[38;5;28mself\u001b[39m\u001b[38;5;241m.\u001b[39mdelete(indexer)\n",
      "\u001b[0;31mKeyError\u001b[0m: \"['title + Link'] not found in axis\""
     ]
    }
   ],
   "source": [
    "api = API()\n",
    "df = api.get_news(ticker)\n",
    "#df.drop(columns = ['Headline + Link'], inplace=True)\n",
    "df.drop(columns = ['title + link'], inplace=True)\n",
    "\n",
    "df"
   ]
  },
  {
   "cell_type": "markdown",
   "id": "d4f19909-6841-435c-923c-33c4c26c267f",
   "metadata": {},
   "source": [
    "download the latest Finbert ML algorithm"
   ]
  },
  {
   "cell_type": "code",
   "execution_count": null,
   "id": "ec9ebac0-f2e3-4b6e-bbf6-ac7b5c289aef",
   "metadata": {},
   "outputs": [],
   "source": [
    "_sentiment_analysis = pipeline(\"sentiment-analysis\",model=\"ProsusAI/finbert\")"
   ]
  },
  {
   "cell_type": "markdown",
   "id": "3410897e-adba-4cee-8ee9-a2fc99138f09",
   "metadata": {},
   "source": [
    "Perform sentiment analysis using Finbert ML"
   ]
  },
  {
   "cell_type": "code",
   "execution_count": null,
   "id": "477de8b2-7fc8-47f5-b547-3ff61d70953e",
   "metadata": {},
   "outputs": [],
   "source": [
    "df['finbert_sentiment'] = df['Headline'].apply(_sentiment_analysis)"
   ]
  },
  {
   "cell_type": "markdown",
   "id": "f511b45b-a45d-403f-8652-0fc8aab794b5",
   "metadata": {},
   "source": [
    "Calculate a float score value"
   ]
  },
  {
   "cell_type": "code",
   "execution_count": null,
   "id": "34a071e1-c364-4106-9512-62d2daa656e3",
   "metadata": {},
   "outputs": [],
   "source": [
    "df['finbert_sentiment_score'] = df['finbert_sentiment'].apply(lambda x: {x[0]['label']=='negative': -1, x[0]['label']=='positive': 1}.get(True, 0) * x[0]['score'])\n",
    "df"
   ]
  },
  {
   "cell_type": "markdown",
   "id": "b0a58741-154e-473d-81e3-0b03c6b07407",
   "metadata": {},
   "source": [
    "download the latest Vader ML algorithm"
   ]
  },
  {
   "cell_type": "code",
   "execution_count": null,
   "id": "2c818770-8793-4948-b163-abd45b9bd848",
   "metadata": {},
   "outputs": [],
   "source": [
    "nltk.downloader.download('vader_lexicon')"
   ]
  },
  {
   "cell_type": "markdown",
   "id": "925c2077-c4a1-4d53-8425-876048117f0b",
   "metadata": {},
   "source": [
    "Perform sentiment analysis using Vader ML"
   ]
  },
  {
   "cell_type": "code",
   "execution_count": null,
   "id": "04d0c2d9-bf2f-4d38-a8b2-748971327b97",
   "metadata": {},
   "outputs": [],
   "source": [
    "vader = SentimentIntensityAnalyzer()\n",
    "# self._df['Headline'].apply(vader.polarity_scores)\n",
    "df ['vader_sentiment'] = df['Headline'].apply(vader.polarity_scores)"
   ]
  },
  {
   "cell_type": "markdown",
   "id": "ba5601e4-94ea-4700-8a3a-7ef7bb315807",
   "metadata": {},
   "source": [
    "Calculate a float score value"
   ]
  },
  {
   "cell_type": "code",
   "execution_count": null,
   "id": "d79b04a4-30b1-4231-a731-b4d6d493c540",
   "metadata": {},
   "outputs": [],
   "source": [
    "df['vader_sentiment_score'] = df['vader_sentiment'].apply(lambda x: x['compound'])"
   ]
  },
  {
   "cell_type": "markdown",
   "id": "dce05bcc-f5e3-40bf-9ec1-44776c2a7235",
   "metadata": {},
   "source": [
    "Compare results"
   ]
  },
  {
   "cell_type": "code",
   "execution_count": null,
   "id": "ca033259-cfb3-4537-98cd-f424ca3e9a1a",
   "metadata": {},
   "outputs": [],
   "source": [
    "df"
   ]
  },
  {
   "cell_type": "code",
   "execution_count": null,
   "id": "d0a6a8b1-b7b3-48c1-b6e9-5c885b63ba12",
   "metadata": {},
   "outputs": [],
   "source": []
  }
 ],
 "metadata": {
  "kernelspec": {
   "display_name": "Python 3 (ipykernel)",
   "language": "python",
   "name": "python3"
  },
  "language_info": {
   "codemirror_mode": {
    "name": "ipython",
    "version": 3
   },
   "file_extension": ".py",
   "mimetype": "text/x-python",
   "name": "python",
   "nbconvert_exporter": "python",
   "pygments_lexer": "ipython3",
   "version": "3.11.5"
  },
  "vscode": {
   "interpreter": {
    "hash": "64165854f9cb0fc123cceeb8dae298203ba6c7736a866f7ad272473910cb5ed3"
   }
  }
 },
 "nbformat": 4,
 "nbformat_minor": 5
}
